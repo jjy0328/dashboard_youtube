{
 "cells": [
  {
   "cell_type": "code",
   "execution_count": 12,
   "metadata": {},
   "outputs": [],
   "source": [
    "import pandas as pd\n",
    "import os\n",
    "import time\n",
    "from dotenv import load_dotenv\n",
    "from openai import OpenAI"
   ]
  },
  {
   "cell_type": "code",
   "execution_count": 17,
   "metadata": {},
   "outputs": [],
   "source": [
    "load_dotenv()\n",
    "client = OpenAI(api_key=os.getenv('OPENAI_API_KEY'))\n",
    "\n",
    "response = client.chat.completions.create(\n",
    "  model=\"gpt-4-1106-preview\",\n",
    "    messages=[\n",
    "        {\"role\": \"system\", \"content\": \"다음은 유튜브 사용자의 페르소나를 생성하는 대화입니다.\"},\n",
    "        {\"role\": \"user\", \"content\": \"유튜브 사용자 페르소나를 만들어 주세요.\"},\n",
    "        {\"role\": \"assistant\", \"content\": \"물론이죠, 제가 도와드릴 수 있습니다. 페르소나에 어떤 구체적인 세부 사항이 필요합니까?\"},\n",
    "        {\"role\": \"user\", \"content\": \"이름, 나이, 직업, 위치, 교육 수준, 유튜브 사용 패턴, 관심사, 선호하는 콘텐츠 유형, 행동 및 선호도 등 기타 특성을 포함합니다.\"}\n",
    "    ]\n",
    ")"
   ]
  },
  {
   "cell_type": "code",
   "execution_count": 18,
   "metadata": {},
   "outputs": [
    {
     "name": "stdout",
     "output_type": "stream",
     "text": [
      "페르소나 이름: 지우 (Jiwoo)\n",
      "\n",
      "나이: 26세\n",
      "\n",
      "직업: 그래픽 디자이너\n",
      "\n",
      "위치: 서울, 대한민국\n",
      "\n",
      "교육 수준: 대학교 졸업 (디자인 전공)\n",
      "\n",
      "유튜브 사용 패턴: 지우는 일주일에 대략 10시간을 유튜브 시청에 할애합니다. 주로 퇴근 후 저녁 시간과 주말에 많은 시간을 보냅니다. 다양한 기기(스마트폰, 노트북, 스마트 TV)를 이용해서 콘텐츠를 시청합니다.\n",
      "\n",
      "관심사: 그래픽 디자인, 최신 기술 트렌드, 영화, 게임, 여행, 건강한 라이프스타일\n",
      "\n",
      "선호하는 콘텐츠 유형: \n",
      "1. 디자인 튜토리얼 및 리소스 공유\n",
      "2. 기술 리뷰 및 언박싱 비디오\n",
      "3. 영화 리뷰와 예고편\n",
      "4. 게임 관련 뉴스, 플레이 가이드, 리뷰\n",
      "5. 여행 브이로그와 팁\n",
      "6. 홈 트레이닝과 건강 레시피\n",
      "\n",
      "행동 및 선호도: \n",
      "- 지우는 자신의 관심사에 맞는 채널을 구독하고, 알림을 설정하여 최신 컨텐츠를 놓치지 않으려 합니다.\n",
      "- 인터랙티브한 콘텐츠를 선호하여 댓글을 달거나 커뮤니티 탭에 참여할 때가 많습니다.\n",
      "- 자신이 유익하다고 생각하는 컨텐츠는 친구들과 공유하는 것을 좋아합니다.\n",
      "- 광고가 많거나 지나치게 상업적인 콘텐츠에는 거부감을 느끼며, 그런 채널의 구독을 해지하는 경향이 있습니다.\n",
      "- 자신만의 작은 채널을 가지고 있기도 해서 콘텐츠 제작에 대해서도 관심이 많고, 유튜브의 트렌드와 알고리즘에 대해서도 잘 알고 있습니다.\n",
      "\n",
      "기타 특성:\n",
      "- 비디오를 시청할 때는 배경음악에 민감하며, 높은 품질의 오디오를 선호합니다.\n",
      "- 최신 기술과 트렌드에 관심이 많기 때문에, 유튜브를 통해 정보를 습득하고 자신의 지식을 향상시키려고 합니다.\n",
      "- 여행 관련 콘텐츠를 시청하며 다음 여행 목적지나 활동에 대한 영감을 얻습니다.\n",
      "- 건강한 생활을 추구하며, 홈 트레이닝이나 건강 레시피에 관련된 콘텐츠에 관심이 많습니다.\n",
      "- 콘텐츠에 대해 자신의 의견을 나누고, 커뮤니티 내에서 정보를 공유하는 것을 중요하게 생각합니다.\n",
      "\n",
      "이런 페르소나는 유튜브 사용자의 한 예시일 뿐이며, 실제 사용자의 다양한 취향과 행동양식을 반영할 수 있도록 자유롭게 조정하고 추가할 수 있습니다.\n"
     ]
    }
   ],
   "source": [
    "print(response.choices[0].message.content)"
   ]
  },
  {
   "cell_type": "code",
   "execution_count": null,
   "metadata": {},
   "outputs": [],
   "source": []
  }
 ],
 "metadata": {
  "kernelspec": {
   "display_name": "youvenv",
   "language": "python",
   "name": "youvenv"
  },
  "language_info": {
   "codemirror_mode": {
    "name": "ipython",
    "version": 3
   },
   "file_extension": ".py",
   "mimetype": "text/x-python",
   "name": "python",
   "nbconvert_exporter": "python",
   "pygments_lexer": "ipython3",
   "version": "3.9.10"
  },
  "orig_nbformat": 4
 },
 "nbformat": 4,
 "nbformat_minor": 2
}
